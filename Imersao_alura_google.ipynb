{
  "nbformat": 4,
  "nbformat_minor": 0,
  "metadata": {
    "colab": {
      "provenance": [],
      "authorship_tag": "ABX9TyO6lwsUvpRHvcntcY7/SuP/",
      "include_colab_link": true
    },
    "kernelspec": {
      "name": "python3",
      "display_name": "Python 3"
    },
    "language_info": {
      "name": "python"
    }
  },
  "cells": [
    {
      "cell_type": "markdown",
      "metadata": {
        "id": "view-in-github",
        "colab_type": "text"
      },
      "source": [
        "<a href=\"https://colab.research.google.com/github/Rocha29/Irmersao_alura_google/blob/main/Imersao_alura_google.ipynb\" target=\"_parent\"><img src=\"https://colab.research.google.com/assets/colab-badge.svg\" alt=\"Open In Colab\"/></a>"
      ]
    },
    {
      "cell_type": "code",
      "execution_count": null,
      "metadata": {
        "id": "UKksv8OBDbpK",
        "colab": {
          "base_uri": "https://localhost:8080/",
          "height": 1000
        },
        "outputId": "6368154e-d0dc-495b-b574-3d7cbd48aed0"
      },
      "outputs": [
        {
          "output_type": "stream",
          "name": "stdout",
          "text": [
            "Oi sou o Runner coaching! Estou aqui para ajudar a iniciar uma mudança na sua vida. Vamos começar? Por favor, me conte sobre sua preparação para a corrida.   prompt: estou caminhando 2 vezes na semana quero tentar correr aos sabados\n",
            "Resposta:  **Plano de Exercícios Progressivo**\n",
            "\n",
            "**Semana 1-4:**\n",
            "\n",
            "* **Caminhada:** 2x por semana, 30 minutos cada sessão\n",
            "* **Descanso:** 5 minutos entre os intervalos de caminhada\n",
            "\n",
            "**Semana 5-8:**\n",
            "\n",
            "* **Caminhada/Corrida Intervalada:**\n",
            "    * Caminhe por 2 minutos\n",
            "    * Corra por 1 minuto\n",
            "    * Repita 10-12 vezes\n",
            "* **Descanso:** 5 minutos entre os intervalos\n",
            "* **Caminhada:** 1x por semana, 30 minutos\n",
            "\n",
            "**Semana 9-12:**\n",
            "\n",
            "* **Corrida Intervalada:**\n",
            "    * Corra por 3 minutos\n",
            "    * Descanse por 2 minutos\n",
            "    * Repita 8-10 vezes\n",
            "* **Caminhada:** 1x por semana, 30 minutos\n",
            "\n",
            "**Sábado:**\n",
            "\n",
            "* **Corrida Contínua:**\n",
            "    * Comece com 15 minutos e aumente gradualmente para 30 minutos nas próximas semanas\n",
            "* **Caminhe:** 5 minutos antes e depois da corrida para aquecimento e resfriamento\n",
            "\n",
            "**Dicas:**\n",
            "\n",
            "* Ouça seu corpo e descanse quando necessário.\n",
            "* Aumente gradualmente a duração e a intensidade dos treinos.\n",
            "* Mantenha-se hidratado bebendo bastante água.\n",
            "* Use calçados confortáveis e de suporte.\n",
            "* Encontre um amigo ou grupo de exercícios para motivação e apoio.\n",
            "* Divirta-se! O exercício deve ser agradável. \n",
            "\n",
            "Esperando prompt: como eu posso melhorar essas corridas ?\n",
            "Resposta:  **Dicas para Melhorar suas Corridas:**\n",
            "\n",
            "**Treinamento:**\n",
            "\n",
            "* **Treinamento Intervalado:** Alterne entre períodos de corrida de alta intensidade e descanso ou corrida leve. Isso melhora a capacidade cardiovascular e a resistência.\n",
            "* **Corridas Longas:** Programe corridas mais longas uma vez por semana para aumentar a resistência e construir uma base aeróbica sólida.\n",
            "* **Treino de Velocidade:** Incorpore sprints curtos em seus treinos para melhorar a velocidade e a potência.\n",
            "\n",
            "**Técnica:**\n",
            "\n",
            "* **Postura:** Mantenha a postura ereta, com os ombros relaxados e o tronco engajado.\n",
            "* **Passada:** Aterre na parte intermediária do pé e role para a frente, empurrando com os dedos dos pés. Evite passos muito longos ou saltitantes.\n",
            "* **Cadência:** Aumente sua cadência (passos por minuto) para reduzir o impacto e melhorar a eficiência.\n",
            "\n",
            "**Nutrição e Hidratação:**\n",
            "\n",
            "* **Alimentação Pré-Corrida:** Coma uma refeição rica em carboidratos e proteínas 2-3 horas antes de correr.\n",
            "* **Hidratação:** Beba bastante água antes, durante e após a corrida.\n",
            "\n",
            "**Descanso e Recuperação:**\n",
            "\n",
            "* **Dias de Descanso:** Inclua dias de descanso em seu plano de treinamento para permitir que seu corpo se recupere.\n",
            "* **Sono:** Durma o suficiente para apoiar a recuperação e o crescimento muscular.\n",
            "* **Alongamento:** Alongue regularmente para melhorar a flexibilidade e reduzir o risco de lesões.\n",
            "\n",
            "**Outros:**\n",
            "\n",
            "* **Calçados:** Use calçados de corrida adequados que forneçam suporte e amortecimento.\n",
            "* **Roupas:** Vista roupas leves e respiráveis para mantê-lo confortável durante a corrida.\n",
            "* **Motivação:** Encontre um amigo ou grupo para correr, ou defina metas para mantê-lo motivado.\n",
            "\n",
            "**Lembre-se:** Melhorar as corridas requer consistência, paciência e esforço. Foque em progresso gradual e divirta-se com o processo. \n",
            "\n"
          ]
        }
      ],
      "source": [
        "!pip install -q -U google-generativeai\n",
        "# Importe as bibliotecas necessárias\n",
        "import google.generativeai as genai\n",
        "from google.colab import userdata\n",
        "\n",
        "# Defina a chave API\n",
        "api_key = userdata.get('SECRET_KEY')\n",
        "GOOGLE_API_Key = api_key\n",
        "genai.configure(api_key=GOOGLE_API_Key)\n",
        "\n",
        "# Inicialize o Modelo Generativo\n",
        "model = genai.GenerativeModel(model_name=\"gemini-1.0-pro\")\n",
        "\n",
        "# Função para iniciar a conversa e obter informações do usuário\n",
        "def start_conversation():\n",
        "    # Iniciar conversa no chat do GenAI\n",
        "    chat = model.start_chat(history=[])\n",
        "    prompt = input(\"Oi sou o Runner coaching! Estou aqui para ajudar a iniciar uma mudança na sua vida. Vamos começar? Por favor, me conte sobre sua preparação para a corrida.   prompt: \")\n",
        "\n",
        "    # Continuar a conversa até o usuário terminar\n",
        "    while prompt != \"ok\":\n",
        "        response = chat.send_message(prompt)\n",
        "        print(\"Resposta: \", response.text, \"\\n\")\n",
        "        prompt = input(\"Esperando prompt: \")\n",
        "\n",
        "    # Imprimir o histórico da conversa\n",
        "    print(\"\\nHistórico da conversa:\")\n",
        "    for message in chat.history:\n",
        "        print(f\"{message.role}: {message.parts[0].text}\")\n",
        "\n",
        "# Iniciar a conversa e obter informações do usuário\n",
        "start_conversation()\n"
      ]
    },
    {
      "cell_type": "markdown",
      "source": [],
      "metadata": {
        "id": "BTsJJ9AZBOF0"
      }
    },
    {
      "cell_type": "markdown",
      "source": [
        "iniciando o modelo"
      ],
      "metadata": {
        "id": "NR24PExoEHOg"
      }
    }
  ]
}