{
  "nbformat": 4,
  "nbformat_minor": 0,
  "metadata": {
    "colab": {
      "provenance": [],
      "authorship_tag": "ABX9TyOaJOoKltJXF6oRUOd/s3uT",
      "include_colab_link": true
    },
    "kernelspec": {
      "name": "python3",
      "display_name": "Python 3"
    },
    "language_info": {
      "name": "python"
    }
  },
  "cells": [
    {
      "cell_type": "markdown",
      "metadata": {
        "id": "view-in-github",
        "colab_type": "text"
      },
      "source": [
        "<a href=\"https://colab.research.google.com/github/Rocha29/Irmersao_alura_google/blob/main/Imersao_alura_google.ipynb\" target=\"_parent\"><img src=\"https://colab.research.google.com/assets/colab-badge.svg\" alt=\"Open In Colab\"/></a>"
      ]
    },
    {
      "cell_type": "code",
      "source": [
        "!pip install google-generativeai --upgrade"
      ],
      "metadata": {
        "colab": {
          "base_uri": "https://localhost:8080/"
        },
        "id": "mycblzC6mf3e",
        "outputId": "ad8c4469-b7b6-4693-cda0-199875d9c76a"
      },
      "execution_count": 105,
      "outputs": [
        {
          "output_type": "stream",
          "name": "stdout",
          "text": [
            "Requirement already satisfied: google-generativeai in /usr/local/lib/python3.10/dist-packages (0.5.2)\n",
            "Requirement already satisfied: google-ai-generativelanguage==0.6.2 in /usr/local/lib/python3.10/dist-packages (from google-generativeai) (0.6.2)\n",
            "Requirement already satisfied: google-api-core in /usr/local/lib/python3.10/dist-packages (from google-generativeai) (2.11.1)\n",
            "Requirement already satisfied: google-api-python-client in /usr/local/lib/python3.10/dist-packages (from google-generativeai) (2.84.0)\n",
            "Requirement already satisfied: google-auth>=2.15.0 in /usr/local/lib/python3.10/dist-packages (from google-generativeai) (2.27.0)\n",
            "Requirement already satisfied: protobuf in /usr/local/lib/python3.10/dist-packages (from google-generativeai) (3.20.3)\n",
            "Requirement already satisfied: pydantic in /usr/local/lib/python3.10/dist-packages (from google-generativeai) (2.7.1)\n",
            "Requirement already satisfied: tqdm in /usr/local/lib/python3.10/dist-packages (from google-generativeai) (4.66.4)\n",
            "Requirement already satisfied: typing-extensions in /usr/local/lib/python3.10/dist-packages (from google-generativeai) (4.11.0)\n",
            "Requirement already satisfied: proto-plus<2.0.0dev,>=1.22.3 in /usr/local/lib/python3.10/dist-packages (from google-ai-generativelanguage==0.6.2->google-generativeai) (1.23.0)\n",
            "Requirement already satisfied: cachetools<6.0,>=2.0.0 in /usr/local/lib/python3.10/dist-packages (from google-auth>=2.15.0->google-generativeai) (5.3.3)\n",
            "Requirement already satisfied: pyasn1-modules>=0.2.1 in /usr/local/lib/python3.10/dist-packages (from google-auth>=2.15.0->google-generativeai) (0.4.0)\n",
            "Requirement already satisfied: rsa<5,>=3.1.4 in /usr/local/lib/python3.10/dist-packages (from google-auth>=2.15.0->google-generativeai) (4.9)\n",
            "Requirement already satisfied: googleapis-common-protos<2.0.dev0,>=1.56.2 in /usr/local/lib/python3.10/dist-packages (from google-api-core->google-generativeai) (1.63.0)\n",
            "Requirement already satisfied: requests<3.0.0.dev0,>=2.18.0 in /usr/local/lib/python3.10/dist-packages (from google-api-core->google-generativeai) (2.31.0)\n",
            "Requirement already satisfied: httplib2<1dev,>=0.15.0 in /usr/local/lib/python3.10/dist-packages (from google-api-python-client->google-generativeai) (0.22.0)\n",
            "Requirement already satisfied: google-auth-httplib2>=0.1.0 in /usr/local/lib/python3.10/dist-packages (from google-api-python-client->google-generativeai) (0.1.1)\n",
            "Requirement already satisfied: uritemplate<5,>=3.0.1 in /usr/local/lib/python3.10/dist-packages (from google-api-python-client->google-generativeai) (4.1.1)\n",
            "Requirement already satisfied: annotated-types>=0.4.0 in /usr/local/lib/python3.10/dist-packages (from pydantic->google-generativeai) (0.6.0)\n",
            "Requirement already satisfied: pydantic-core==2.18.2 in /usr/local/lib/python3.10/dist-packages (from pydantic->google-generativeai) (2.18.2)\n",
            "Requirement already satisfied: grpcio<2.0dev,>=1.33.2 in /usr/local/lib/python3.10/dist-packages (from google-api-core->google-generativeai) (1.63.0)\n",
            "Requirement already satisfied: grpcio-status<2.0.dev0,>=1.33.2 in /usr/local/lib/python3.10/dist-packages (from google-api-core->google-generativeai) (1.48.2)\n",
            "Requirement already satisfied: pyparsing!=3.0.0,!=3.0.1,!=3.0.2,!=3.0.3,<4,>=2.4.2 in /usr/local/lib/python3.10/dist-packages (from httplib2<1dev,>=0.15.0->google-api-python-client->google-generativeai) (3.1.2)\n",
            "Requirement already satisfied: pyasn1<0.7.0,>=0.4.6 in /usr/local/lib/python3.10/dist-packages (from pyasn1-modules>=0.2.1->google-auth>=2.15.0->google-generativeai) (0.6.0)\n",
            "Requirement already satisfied: charset-normalizer<4,>=2 in /usr/local/lib/python3.10/dist-packages (from requests<3.0.0.dev0,>=2.18.0->google-api-core->google-generativeai) (3.3.2)\n",
            "Requirement already satisfied: idna<4,>=2.5 in /usr/local/lib/python3.10/dist-packages (from requests<3.0.0.dev0,>=2.18.0->google-api-core->google-generativeai) (3.7)\n",
            "Requirement already satisfied: urllib3<3,>=1.21.1 in /usr/local/lib/python3.10/dist-packages (from requests<3.0.0.dev0,>=2.18.0->google-api-core->google-generativeai) (2.0.7)\n",
            "Requirement already satisfied: certifi>=2017.4.17 in /usr/local/lib/python3.10/dist-packages (from requests<3.0.0.dev0,>=2.18.0->google-api-core->google-generativeai) (2024.2.2)\n"
          ]
        }
      ]
    },
    {
      "cell_type": "code",
      "execution_count": 106,
      "metadata": {
        "id": "UKksv8OBDbpK",
        "colab": {
          "base_uri": "https://localhost:8080/",
          "height": 539
        },
        "outputId": "40df75fb-eb94-4fb3-bf5b-a2d691951a5a"
      },
      "outputs": [
        {
          "name": "stdout",
          "output_type": "stream",
          "text": [
            "Qual seu nome? robs\n",
            "Qual sua altura em metros? (ex: 1.75) 1.80\n",
            "Qual seu peso em kg? (ex: 70) 112\n",
            "Qual seu objetivo de curto prazo com a corrida (ex: correr 5km sem parar)? correr 5km sem parar\n",
            "Qual seu objetivo de longo prazo com a corrida (ex: completar uma maratona)? completar uma maratona\n",
            "Resposta:  Olá! Fico feliz em estar aqui. Sou um corredor experiente e estou ansioso para compartilhar meu conhecimento e ajudá-lo a atingir seus objetivos. Estou aqui para fornecer planos de treinamento personalizados, dicas e conselhos, além de ajudá-lo a monitorar seu progresso. Vamos começar! 1. Quais são seus objetivos de corrida? 2. Quais são suas informações básicas, como idade, sexo, peso e experiência de corrida? \n",
            "\n",
            "O que você gostaria de fazer hoje? (ex: quero um plano de treino, preciso de dicas, como está meu progresso?) quero um plano de treino\n"
          ]
        },
        {
          "output_type": "error",
          "ename": "AttributeError",
          "evalue": "'ChatSession' object has no attribute 'get_user_input'",
          "traceback": [
            "\u001b[0;31m---------------------------------------------------------------------------\u001b[0m",
            "\u001b[0;31mAttributeError\u001b[0m                            Traceback (most recent call last)",
            "\u001b[0;32m<ipython-input-106-656fa85a8b63>\u001b[0m in \u001b[0;36m<cell line: 68>\u001b[0;34m()\u001b[0m\n\u001b[1;32m     75\u001b[0m     \u001b[0;32melif\u001b[0m \u001b[0mprompt\u001b[0m \u001b[0;34m==\u001b[0m \u001b[0;34m\"quero um plano de treino\"\u001b[0m\u001b[0;34m:\u001b[0m\u001b[0;34m\u001b[0m\u001b[0;34m\u001b[0m\u001b[0m\n\u001b[1;32m     76\u001b[0m         \u001b[0;31m# Gere um plano de treino personalizado com base nos dados do usuário\u001b[0m\u001b[0;34m\u001b[0m\u001b[0;34m\u001b[0m\u001b[0m\n\u001b[0;32m---> 77\u001b[0;31m         \u001b[0mtraining_plan\u001b[0m \u001b[0;34m=\u001b[0m \u001b[0mgenerate_training_plan\u001b[0m\u001b[0;34m(\u001b[0m\u001b[0muser_data\u001b[0m\u001b[0;34m,\u001b[0m \u001b[0mchat\u001b[0m\u001b[0;34m)\u001b[0m\u001b[0;34m\u001b[0m\u001b[0;34m\u001b[0m\u001b[0m\n\u001b[0m\u001b[1;32m     78\u001b[0m         \u001b[0;32mif\u001b[0m \u001b[0mtraining_plan\u001b[0m\u001b[0;34m:\u001b[0m\u001b[0;34m\u001b[0m\u001b[0;34m\u001b[0m\u001b[0m\n\u001b[1;32m     79\u001b[0m             \u001b[0mresponse\u001b[0m \u001b[0;34m=\u001b[0m \u001b[0mchat\u001b[0m\u001b[0;34m.\u001b[0m\u001b[0msend_message\u001b[0m\u001b[0;34m(\u001b[0m\u001b[0;34mf\"Com base em suas informações, preparei um plano de treino personalizado para você: {training_plan}\"\u001b[0m\u001b[0;34m)\u001b[0m\u001b[0;34m\u001b[0m\u001b[0;34m\u001b[0m\u001b[0m\n",
            "\u001b[0;32m<ipython-input-106-656fa85a8b63>\u001b[0m in \u001b[0;36mgenerate_training_plan\u001b[0;34m(user_data, chat)\u001b[0m\n\u001b[1;32m     16\u001b[0m     \u001b[0mresponse\u001b[0m \u001b[0;34m=\u001b[0m \u001b[0mchat\u001b[0m\u001b[0;34m.\u001b[0m\u001b[0msend_message\u001b[0m\u001b[0;34m(\u001b[0m\u001b[0;34m\"Olá! Vamos criar um plano de treino personalizado para você. Para começar, me diga qual é o seu objetivo de curto prazo com a corrida?\"\u001b[0m\u001b[0;34m)\u001b[0m\u001b[0;34m\u001b[0m\u001b[0;34m\u001b[0m\u001b[0m\n\u001b[1;32m     17\u001b[0m     \u001b[0;31m# Coletar informações do usuário através do chat\u001b[0m\u001b[0;34m\u001b[0m\u001b[0;34m\u001b[0m\u001b[0m\n\u001b[0;32m---> 18\u001b[0;31m     \u001b[0mshort_term_goal\u001b[0m \u001b[0;34m=\u001b[0m \u001b[0mchat\u001b[0m\u001b[0;34m.\u001b[0m\u001b[0mget_user_input\u001b[0m\u001b[0;34m(\u001b[0m\u001b[0;34m)\u001b[0m\u001b[0;34m\u001b[0m\u001b[0;34m\u001b[0m\u001b[0m\n\u001b[0m\u001b[1;32m     19\u001b[0m     \u001b[0;31m# ... (repetir para outros dados e objetivos)\u001b[0m\u001b[0;34m\u001b[0m\u001b[0;34m\u001b[0m\u001b[0m\n\u001b[1;32m     20\u001b[0m \u001b[0;34m\u001b[0m\u001b[0m\n",
            "\u001b[0;31mAttributeError\u001b[0m: 'ChatSession' object has no attribute 'get_user_input'"
          ]
        }
      ],
      "source": [
        "# Importe as bibliotecas necessárias\n",
        "import google.generativeai as genai\n",
        "from google.colab import userdata\n",
        "\n",
        "# Defina a chave API\n",
        "api_key = userdata.get('SECRET_KEY')\n",
        "GOOGLE_API_Key = api_key\n",
        "genai.configure(api_key=GOOGLE_API_Key)\n",
        "\n",
        "# Inicialize o Modelo Generativo\n",
        "model = genai.GenerativeModel(model_name=\"gemini-1.0-pro\")\n",
        "\n",
        "# Função para gerar um plano de treino personalizado\n",
        "def generate_training_plan(user_data, chat):\n",
        "    # Iniciar conversa no chat do GenAI\n",
        "    response = chat.send_message(\"Olá! Vamos criar um plano de treino personalizado para você. Para começar, me diga qual é o seu objetivo de curto prazo com a corrida?\")\n",
        "    # Coletar informações do usuário através do chat\n",
        "    short_term_goal = chat.get_user_input()\n",
        "    # ... (repetir para outros dados e objetivos)\n",
        "\n",
        "    # Processar dados do usuário e gerar plano de treino\n",
        "    # ...\n",
        "\n",
        "    # Apresentar o plano de treino no chat\n",
        "    response = chat.send_message(f\"Com base em suas informações, preparei um plano de treino personalizado para você: {training_plan}\")\n",
        "\n",
        "    # Solicitar feedback do usuário\n",
        "    response = chat.send_message(\"O que você achou do seu plano de treino? Tem alguma dúvida ou gostaria de fazer alguma alteração?\")\n",
        "    # ... (utilizar feedback para aprimorar o plano)\n",
        "\n",
        "\n",
        "# Função para gerar dicas de corrida\n",
        "def generate_running_tips(user_data, chat_history):\n",
        "    # Aqui você pode implementar a lógica para gerar dicas de corrida com base nos dados do usuário e na conversa atual\n",
        "    return \"Dicas de corrida\"\n",
        "\n",
        "# Inicialize o histórico de bate-papo\n",
        "chat = model.start_chat(history=[])\n",
        "\n",
        "# Colete informações do usuário\n",
        "user_data = {}\n",
        "\n",
        "# Solicite e armazene o nome do usuário\n",
        "name_prompt = input(\"Qual seu nome? \")\n",
        "user_data[\"Nome\"] = name_prompt.strip()\n",
        "\n",
        "# Solicite e armazene a altura do usuário\n",
        "height_prompt = input(\"Qual sua altura em metros? (ex: 1.75) \")\n",
        "user_data[\"Altura\"] = float(height_prompt.strip())\n",
        "\n",
        "# Solicite e armazene o peso do usuário\n",
        "weight_prompt = input(\"Qual seu peso em kg? (ex: 70) \")\n",
        "user_data[\"Peso em kg\"] = float(weight_prompt.strip())\n",
        "\n",
        "# Solicite e armazene o objetivo de curto prazo do usuário\n",
        "short_term_goal_prompt = input(\"Qual seu objetivo de curto prazo com a corrida (ex: correr 5km sem parar)? \")\n",
        "user_data[\"Objetivo de curto prazo\"] = short_term_goal_prompt.strip()\n",
        "\n",
        "# Solicite e armazene o objetivo de longo prazo do usuário\n",
        "long_term_goal_prompt = input(\"Qual seu objetivo de longo prazo com a corrida (ex: completar uma maratona)? \")\n",
        "user_data[\"Objetivo de longo prazo\"] = long_term_goal_prompt.strip()\n",
        "\n",
        "# Dê as boas-vindas ao usuário e apresente o chatbot\n",
        "response = chat.send_message(f\"Olá {user_data['Nome']}, seja bem-vindo(a) ao Coach Runner! Estou aqui para te auxiliar na sua jornada de corrida. Com base em seus objetivos e informações, posso te fornecer planos de treino personalizados, dicas e conselhos, além de te ajudar a monitorar seu progresso.\")\n",
        "print(\"Resposta: \", response.text, \"\\n\")\n",
        "\n",
        "# Loop principal do bate-papo\n",
        "while True:\n",
        "    # Obtenha a mensagem do usuário\n",
        "    prompt = input(\"O que você gostaria de fazer hoje? (ex: quero um plano de treino, preciso de dicas, como está meu progresso?) \")\n",
        "\n",
        "    # Processe a mensagem do usuário e gere uma resposta\n",
        "    if prompt == \"ok\":\n",
        "        break\n",
        "    elif prompt == \"quero um plano de treino\":\n",
        "        # Gere um plano de treino personalizado com base nos dados do usuário\n",
        "        training_plan = generate_training_plan(user_data, chat)\n",
        "        if training_plan:\n",
        "            response = chat.send_message(f\"Com base em suas informações, preparei um plano de treino personalizado para você: {training_plan}\")\n",
        "        else:\n",
        "            response = chat.send_message(\"Desculpe, não consegui gerar um plano de treino para você neste momento.\")\n",
        "    elif prompt == \"preciso de dicas\":\n",
        "        # Gere dicas de corrida com base nos dados do usuário e na conversa atual\n",
        "        running_tips = generate_running_tips(user_data, chat.history)\n",
        "        response = chat.send_message(f\"Aqui estão algumas dicas para você:\\n\\n{running_tips}\")\n",
        "    else:\n",
        "        print(\"Desculpe, não entendi. Por favor, escolha entre 'ok', 'quero um plano de treino' ou 'preciso de dicas'.\")\n"
      ]
    },
    {
      "cell_type": "markdown",
      "source": [],
      "metadata": {
        "id": "BTsJJ9AZBOF0"
      }
    },
    {
      "cell_type": "markdown",
      "source": [
        "iniciando o modelo"
      ],
      "metadata": {
        "id": "NR24PExoEHOg"
      }
    }
  ]
}