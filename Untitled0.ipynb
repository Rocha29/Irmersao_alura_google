# Importe as bibliotecas necessárias
import google.generativeai as genai
from google.colab import userdata

# Defina a chave API
api_key = userdata.get('SECRET_KEY')
GOOGLE_API_Key = api_key
genai.configure(api_key=GOOGLE_API_Key)

# Inicialize o Modelo Generativo
model = genai.GenerativeModel(model_name="gemini-1.0-pro")

# Função para gerar um plano de treino personalizado
def generate_training_plan(user_data, chat):
    # Iniciar conversa no chat do GenAI
    response = chat.send_message("Olá! Vamos criar um plano de treino personalizado para você. Para começar, me diga qual é o seu objetivo de curto prazo com a corrida?")
    # Coletar informações do usuário através do chat
    short_term_goal = chat.get_user_input()
    # ... (repetir para outros dados e objetivos)

    # Processar dados do usuário e gerar plano de treino
    # ...

    # Apresentar o plano de treino no chat
    response = chat.send_message(f"Com base em suas informações, preparei um plano de treino personalizado para você: {training_plan}")

    # Solicitar feedback do usuário
    response = chat.send_message("O que você achou do seu plano de treino? Tem alguma dúvida ou gostaria de fazer alguma alteração?")
    # ... (utilizar feedback para aprimorar o plano)


# Função para gerar dicas de corrida
def generate_running_tips(user_data, chat_history):
    # Aqui você pode implementar a lógica para gerar dicas de corrida com base nos dados do usuário e na conversa atual
    return "Dicas de corrida"

# Inicialize o histórico de bate-papo
chat = model.start_chat(history=[])

# Colete informações do usuário
user_data = {}

# Solicite e armazene o nome do usuário
name_prompt = input("Qual seu nome? ")
user_data["Nome"] = name_prompt.strip()

# Solicite e armazene a altura do usuário
height_prompt = input("Qual sua altura em metros? (ex: 1.75) ")
user_data["Altura"] = float(height_prompt.strip())

# Solicite e armazene o peso do usuário
weight_prompt = input("Qual seu peso em kg? (ex: 70) ")
user_data["Peso em kg"] = float(weight_prompt.strip())

# Solicite e armazene o objetivo de curto prazo do usuário
short_term_goal_prompt = input("Qual seu objetivo de curto prazo com a corrida (ex: correr 5km sem parar)? ")
user_data["Objetivo de curto prazo"] = short_term_goal_prompt.strip()

# Solicite e armazene o objetivo de longo prazo do usuário
long_term_goal_prompt = input("Qual seu objetivo de longo prazo com a corrida (ex: completar uma maratona)? ")
user_data["Objetivo de longo prazo"] = long_term_goal_prompt.strip()

# Dê as boas-vindas ao usuário e apresente o chatbot
response = chat.send_message(f"Olá {user_data['Nome']}, seja bem-vindo(a) ao Coach Runner! Estou aqui para te auxiliar na sua jornada de corrida. Com base em seus objetivos e informações, posso te fornecer planos de treino personalizados, dicas e conselhos, além de te ajudar a monitorar seu progresso.")
print("Resposta: ", response.text, "\n")

# Loop principal do bate-papo
while True:
    # Obtenha a mensagem do usuário
    prompt = input("O que você gostaria de fazer hoje? (ex: quero um plano de treino, preciso de dicas, como está meu progresso?) ")

    # Processe a mensagem do usuário e gere uma resposta
    if prompt == "ok":
        break
    elif prompt == "quero um plano de treino":
        # Gere um plano de treino personalizado com base nos dados do usuário
        training_plan = generate_training_plan(user_data, chat)
        if training_plan:
            response = chat.send_message(f"Com base em suas informações, preparei um plano de treino personalizado para você: {training_plan}")
        else:
            response = chat.send_message("Desculpe, não consegui gerar um plano de treino para você neste momento.")
    elif prompt == "preciso de dicas":
        # Gere dicas de corrida com base nos dados do usuário e na conversa atual
        running_tips = generate_running_tips(user_data, chat.history)
        response = chat.send_message(f"Aqui estão algumas dicas para você:\n\n{running_tips}")
    else:
        print("Desculpe, não entendi. Por favor, escolha entre 'ok', 'quero um plano de treino' ou 'preciso de dicas'.")
